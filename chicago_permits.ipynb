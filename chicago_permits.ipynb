{
 "cells": [
  {
   "cell_type": "markdown",
   "metadata": {},
   "source": [
    "# Introduction\n",
    "\n",
    "This is an example of using Luigi (https://luigi.readthedocs.io/en/stable/index.html) to create a data pipeline.  \n",
    "\n",
    "This is intended to be an example of using Luigi to create a data pipeline that grabs data off the web (in this case building permits and ward boundaries for the city of Chicago) and does some data cleaning and visualization.\n",
    "\n",
    "Cheers!\n",
    "\n",
    "Dave\n",
    "\n",
    "@imagingnerd\n",
    "\n",
    "Github: dmwelch"
   ]
  },
  {
   "cell_type": "markdown",
   "metadata": {},
   "source": [
    "Sources:\n",
    "\n",
    "Excellent blog post by Sensitive Cities: http://sensitivecities.com/so-youd-like-to-make-a-map-using-python-EN.html\n",
    "Hunter Owens presentation at PyData Chicago 2016: https://github.com/hunterowens/data-pipelines"
   ]
  },
  {
   "cell_type": "code",
   "execution_count": 1,
   "metadata": {
    "collapsed": false
   },
   "outputs": [
    {
     "name": "stderr",
     "output_type": "stream",
     "text": [
      "/Users/dwelch/virtualenvs/luigi/lib/python2.7/site-packages/matplotlib/font_manager.py:273: UserWarning: Matplotlib is building the font cache using fc-list. This may take a moment.\n",
      "  warnings.warn('Matplotlib is building the font cache using fc-list. This may take a moment.')\n"
     ]
    }
   ],
   "source": [
    "%matplotlib inline\n",
    "\n",
    "import datetime\n",
    "from datetime import date\n",
    "import pickle\n",
    "import StringIO\n",
    "import zipfile\n",
    "\n",
    "import luigi\n",
    "import requests\n",
    "import pandas as pd\n",
    "import numpy as np\n",
    "import matplotlib.pyplot as plt\n",
    "import matplotlib.cm as cm\n",
    "from matplotlib.colors import Normalize, rgb2hex\n",
    "from matplotlib.collections import PatchCollection\n",
    "from mpl_toolkits.basemap import Basemap  # pip install https://github.com/matplotlib/basemap/archive/v1.0.7rel.tar.gz\n",
    "from shapely.geometry import Point, Polygon, MultiPoint, MultiPolygon\n",
    "from shapely.prepared import prep\n",
    "# from pysal.esda.mapclassify import Natural_Breaks as nb\n",
    "from descartes import PolygonPatch\n",
    "import fiona\n",
    "from itertools import chain"
   ]
  },
  {
   "cell_type": "markdown",
   "metadata": {},
   "source": [
    "## Download permit data from the city of Chicago\n",
    "\n",
    "We save the output to `data/permits.csv`"
   ]
  },
  {
   "cell_type": "code",
   "execution_count": 2,
   "metadata": {
    "collapsed": true
   },
   "outputs": [],
   "source": [
    "class DownloadData(luigi.ExternalTask):\n",
    "    \"\"\"\n",
    "    Downloads permit data from city of Chicago\n",
    "    \"\"\"\n",
    "    def run(self):\n",
    "        url = 'https://data.cityofchicago.org/api/views/ydr8-5enu/rows.csv?accessType=DOWNLOAD'\n",
    "        response = requests.get(url)\n",
    "        with self.output().open('w') as out_file:\n",
    "            out_file.write(response.text)\n",
    "\n",
    "    def output(self):\n",
    "        return luigi.LocalTarget(\"data/permits.csv\")"
   ]
  },
  {
   "cell_type": "markdown",
   "metadata": {},
   "source": [
    "## Clean the data\n",
    "\n",
    "The `ESTIMATED_COST` column will create `Inf` values for \"$\" so we must clean the strings.\n",
    "\n",
    "Save the cleaned data to `data/permits_clean.csv`"
   ]
  },
  {
   "cell_type": "code",
   "execution_count": 3,
   "metadata": {
    "collapsed": true
   },
   "outputs": [],
   "source": [
    "def to_float(s):\n",
    "    default = np.nan\n",
    "    try:\n",
    "        r = float(s.replace('$', ''))\n",
    "    except:\n",
    "        return default\n",
    "    return r\n",
    "    \n",
    "def to_int(s):\n",
    "    default = None\n",
    "    if s == '': return default\n",
    "    return int(s)\n",
    "\n",
    "def to_date(s):\n",
    "    default = '01/01/1900'\n",
    "    if s == '': s = default\n",
    "    return datetime.datetime.strptime(s, \"%m/%d/%Y\")\n",
    "\n",
    "# *** Additional available headers at the end ***\n",
    "converter = {'ID': to_int,\n",
    "             'PERMIT#': str,\n",
    "             'PERMIT_TYPE': str,\n",
    "             'ISSUE_DATE': to_date,\n",
    "             'ESTIMATED_COST': to_float,\n",
    "             'AMOUNT_WAIVED': to_float,\n",
    "             'AMOUNT_PAID': to_float,\n",
    "             'TOTAL_FEE': to_float,\n",
    "             'STREET_NUMBER': to_int,\n",
    "             'STREET DIRECTION': str,\n",
    "             'STREET_NAME': str,\n",
    "             'SUFFIX': str,\n",
    "             'WORK_DESCRIPTION': str,\n",
    "             'LATITUDE': to_float,\n",
    "             'LONGITUDE': to_float,\n",
    "             'LOCATION': str,\n",
    "             }\n",
    "\n",
    "class cleanCSV(luigi.Task):\n",
    "    \"\"\"This is our cleaning step\"\"\"\n",
    "\n",
    "    def requires(self):\n",
    "        return DownloadData()\n",
    "\n",
    "    def run(self):\n",
    "        df = pd.read_csv(self.input().open('r'), \n",
    "                         usecols=converter.keys(), \n",
    "                         converters=converter, \n",
    "                         skipinitialspace=True)\n",
    "        df.to_csv(self.output().fn)\n",
    "\n",
    "    def output(self):\n",
    "        return luigi.LocalTarget(\"data/permits_clean.csv\")"
   ]
  },
  {
   "cell_type": "markdown",
   "metadata": {},
   "source": [
    "## Download the ward shapefiles\n",
    "\n",
    "The response is in ZIP format, so we need to extract and return the `*.shp` file as the output"
   ]
  },
  {
   "cell_type": "code",
   "execution_count": 4,
   "metadata": {
    "collapsed": false
   },
   "outputs": [],
   "source": [
    "import shutil\n",
    "\n",
    "class DownloadWards(luigi.ExternalTask):\n",
    "    \"\"\"\n",
    "    Downloads ward shapefiles from city of Chicago\n",
    "    \"\"\"\n",
    "    def run(self):\n",
    "        url = \"https://data.cityofchicago.org/api/geospatial/sp34-6z76?method=export&format=Shapefile\"\n",
    "        response = requests.get(url)\n",
    "        z = zipfile.ZipFile(StringIO.StringIO(response.content))\n",
    "        files = z.namelist()\n",
    "        z.extractall('data/')\n",
    "        for fname in files:\n",
    "            shutil.move('data/' + fname, 'data/geo_export' + fname[-4:])\n",
    "\n",
    "    def output(self):\n",
    "        return luigi.LocalTarget(\"data/geo_export.shp\")"
   ]
  },
  {
   "cell_type": "markdown",
   "metadata": {},
   "source": [
    "### Convienence functions"
   ]
  },
  {
   "cell_type": "code",
   "execution_count": 5,
   "metadata": {
    "collapsed": true
   },
   "outputs": [],
   "source": [
    "def plot(m, ldn_points, df_map, bds, sizes, title, label, output):\n",
    "    plt.clf()\n",
    "    fig = plt.figure()\n",
    "    ax = fig.add_subplot(111, axisbg='w', frame_on=False)\n",
    "\n",
    "    # we don't need to pass points to m() because we calculated using map_points and shapefile polygons\n",
    "    dev = m.scatter(\n",
    "        [geom.x for geom in ldn_points],\n",
    "        [geom.y for geom in ldn_points],\n",
    "        s=sizes, marker='.', lw=.25,\n",
    "        facecolor='#33ccff', edgecolor='none',\n",
    "        alpha=0.9, antialiased=True,\n",
    "        label=label, zorder=3)\n",
    "    # plot boroughs by adding the PatchCollection to the axes instance\n",
    "    ax.add_collection(PatchCollection(df_map['patches'].values, match_original=True))\n",
    "    # copyright and source data info\n",
    "    smallprint = ax.text(\n",
    "        1.03, 0,\n",
    "        'Total points: %s' % len(ldn_points),\n",
    "        ha='right', va='bottom',\n",
    "        size=4,\n",
    "        color='#555555',\n",
    "        transform=ax.transAxes)\n",
    "\n",
    "    # Draw a map scale\n",
    "    m.drawmapscale(\n",
    "        bds[0] + 0.08, bds[1] + 0.015,\n",
    "        bds[0], bds[1],\n",
    "        10.,\n",
    "        barstyle='fancy', labelstyle='simple',\n",
    "        fillcolor1='w', fillcolor2='#555555',\n",
    "        fontcolor='#555555',\n",
    "        zorder=5)\n",
    "    plt.title(title)\n",
    "    plt.tight_layout()\n",
    "    # this will set the image width to 722px at 100dpi\n",
    "    fig.set_size_inches(7.22, 5.25)\n",
    "    plt.savefig(output, dpi=500, alpha=True)\n",
    "    # plt.show()"
   ]
  },
  {
   "cell_type": "code",
   "execution_count": 6,
   "metadata": {
    "collapsed": false
   },
   "outputs": [],
   "source": [
    "def make_basemap(infile):\n",
    "    with fiona.open(infile) as shp:\n",
    "        bds = shp.bounds\n",
    "    extra = 0.05\n",
    "    ll = (bds[0], bds[1])\n",
    "    ur = (bds[2], bds[3])\n",
    "    w, h = bds[2] - bds[0], bds[3] - bds[1]\n",
    "    # Check w & h calculations\n",
    "    assert bds[0] + w == bds[2] and bds[1] + h == bds[3], \"Width or height of image not correct!\"\n",
    "    center = (bds[0] + (w / 2.0), bds[1] + (h / 2.0))\n",
    "    m = Basemap(projection='tmerc',\n",
    "                lon_0=center[0],\n",
    "                lat_0=center[1],\n",
    "                ellps = 'WGS84',\n",
    "                width=w * 100000 + 10000,\n",
    "                height=h * 100000 + 10000,\n",
    "                lat_ts=0,\n",
    "                resolution='i',\n",
    "                suppress_ticks=True\n",
    "               )\n",
    "    m.readshapefile(infile[:-4], \n",
    "                    'chicago', \n",
    "                    color='blue', \n",
    "                    zorder=3)\n",
    "    # m.fillcontinents()\n",
    "    return m, bds\n",
    "\n",
    "def data_map(m):\n",
    "    df_map = pd.DataFrame({'poly': [Polygon(xy) for xy in m.chicago],\n",
    "                           'ward_name': [ward['ward'] for ward in m.chicago_info]})\n",
    "    df_map['area_m'] = df_map['poly'].map(lambda x: x.area)\n",
    "    df_map['area_km'] = df_map['area_m'] / 100000\n",
    "    # draw ward patches from polygons\n",
    "    df_map['patches'] = df_map['poly'].map(lambda x: PolygonPatch(x, fc='#555555',\n",
    "                                                                  ec='#787878', lw=.25, alpha=.9,\n",
    "                                                                  zorder=4))\n",
    "    return df_map\n",
    "\n",
    "def point_objs(m, df, df_map):\n",
    "    # Create Point objects in map coordinates from dataframe lon and lat values\n",
    "    map_points = pd.Series(\n",
    "        [Point(m(mapped_x, mapped_y)) for mapped_x, mapped_y in zip(df['LONGITUDE'], df['LATITUDE'])])\n",
    "    permit_points = MultiPoint(list(map_points.values))\n",
    "    wards_polygon = prep(MultiPolygon(list(df_map['poly'].values)))\n",
    "    return filter(wards_polygon.contains, permit_points)"
   ]
  },
  {
   "cell_type": "markdown",
   "metadata": {},
   "source": [
    "## Map Permit Distribution"
   ]
  },
  {
   "cell_type": "code",
   "execution_count": 7,
   "metadata": {
    "collapsed": true
   },
   "outputs": [],
   "source": [
    "class MakePermitMap(luigi.Task):\n",
    "    def requires(self):\n",
    "        return dict(wards=DownloadWards(), \n",
    "                    data=cleanCSV())\n",
    "    \n",
    "    def run(self):\n",
    "        m, bds = make_basemap(self.input()['wards'].fn)\n",
    "        df = pd.read_csv(self.input()['data'].open('r'))\n",
    "        df_map = data_map(m)\n",
    "        ldn_points = point_objs(m, df, df_map)\n",
    "        plot(m, ldn_points, df_map, bds, sizes=5, \n",
    "             title=\"Permit Locations, Chicago\", \n",
    "             label=\"Permit Locations\", \n",
    "             output='data/chicago_permits.png')\n",
    "\n",
    "        \n",
    "    def output(self):\n",
    "        return luigi.LocalTarget('data/chicago_permits.png')"
   ]
  },
  {
   "cell_type": "markdown",
   "metadata": {},
   "source": [
    "## Map Estimated Costs"
   ]
  },
  {
   "cell_type": "code",
   "execution_count": 8,
   "metadata": {
    "collapsed": true
   },
   "outputs": [],
   "source": [
    "class MakeEstimatedCostMap(luigi.Task):\n",
    "    \"\"\" Plot the permits and scale the size by the estimated cost (relative to range)\"\"\"\n",
    "    def requires(self):\n",
    "        return dict(wards=DownloadWards(), \n",
    "                    data=cleanCSV())\n",
    "\n",
    "    def run(self):\n",
    "        m, bds = make_basemap(self.input()['wards'].fn)\n",
    "        df = pd.read_csv(self.input()['data'].open('r'))\n",
    "        # Get the estimated costs, normalize, and scale by 5 <-- optional\n",
    "        costs = df['ESTIMATED_COST']\n",
    "        costs.fillna(costs.min() * 2, inplace=True)\n",
    "        assert not np.any([cost is np.inf for cost in costs]), \"Inf in column!\"\n",
    "        # plt.hist(costs, 3000, log=True);\n",
    "        sizes = ((costs - costs.min()) / (costs.max() - costs.min())) * 100  #scale factor\n",
    "        \n",
    "        df_map = data_map(m)\n",
    "        ldn_points = point_objs(m, df, df_map)\n",
    "        plot(m, ldn_points, df_map, bds, sizes=sizes, \n",
    "             title=\"Relative Estimated Permit Cost, Chicago\", \n",
    "             label=\"Relative Estimated Permit Cost\", \n",
    "             output='data/chicago_rel_est_cost.png')\n",
    "        \n",
    "    def output(self):\n",
    "        return luigi.LocalTarget('data/chicago_est_cost.png')"
   ]
  },
  {
   "cell_type": "markdown",
   "metadata": {},
   "source": [
    "## Run All Tasks"
   ]
  },
  {
   "cell_type": "code",
   "execution_count": 9,
   "metadata": {
    "collapsed": true
   },
   "outputs": [],
   "source": [
    "class MakeMaps(luigi.WrapperTask):\n",
    "    \"\"\" RUN ALL THE PLOTS!!! \"\"\"\n",
    "    def requires(self):\n",
    "        yield MakePermitMap()\n",
    "        yield MakeEstimatedCostMap()\n",
    "    \n",
    "    def run(self):\n",
    "        pass"
   ]
  },
  {
   "cell_type": "markdown",
   "metadata": {},
   "source": [
    "Note: to run from the commandline:\n",
    "\n",
    "1. Export to '.py' file\n",
    "2. Run: \n",
    "    \n",
    "    `python -m luigi chicago_permits MakeMaps --local-scheduler`"
   ]
  },
  {
   "cell_type": "code",
   "execution_count": 10,
   "metadata": {
    "collapsed": true
   },
   "outputs": [
    {
     "name": "stderr",
     "output_type": "stream",
     "text": [
      "DEBUG: Checking if MakeMaps() is complete\n",
      "DEBUG: Checking if MakePermitMap() is complete\n",
      "DEBUG: Checking if MakeEstimatedCostMap() is complete\n",
      "INFO: Informed scheduler that task   MakeMaps__99914b932b   has status   PENDING\n",
      "DEBUG: Checking if cleanCSV() is complete\n",
      "DEBUG: Checking if DownloadWards() is complete\n",
      "INFO: Informed scheduler that task   MakeEstimatedCostMap__99914b932b   has status   PENDING\n",
      "INFO: Informed scheduler that task   DownloadWards__99914b932b   has status   PENDING\n",
      "DEBUG: Checking if DownloadData() is complete\n",
      "INFO: Informed scheduler that task   cleanCSV__99914b932b   has status   PENDING\n",
      "INFO: Informed scheduler that task   DownloadData__99914b932b   has status   PENDING\n",
      "INFO: Informed scheduler that task   MakePermitMap__99914b932b   has status   PENDING\n",
      "INFO: Done scheduling tasks\n",
      "INFO: Running Worker with 1 processes\n",
      "DEBUG: Asking scheduler for work...\n",
      "DEBUG: Pending tasks: 6\n",
      "INFO: [pid 67254] Worker Worker(salt=497674608, workers=1, host=10-200-207-248.vlan920.client.wireless.uic.edu, username=dwelch, pid=67254) running   DownloadWards()\n",
      "INFO: [pid 67254] Worker Worker(salt=497674608, workers=1, host=10-200-207-248.vlan920.client.wireless.uic.edu, username=dwelch, pid=67254) done      DownloadWards()\n",
      "DEBUG: 1 running tasks, waiting for next task to finish\n",
      "INFO: Informed scheduler that task   DownloadWards__99914b932b   has status   DONE\n",
      "DEBUG: Asking scheduler for work...\n",
      "DEBUG: Pending tasks: 5\n",
      "INFO: [pid 67254] Worker Worker(salt=497674608, workers=1, host=10-200-207-248.vlan920.client.wireless.uic.edu, username=dwelch, pid=67254) running   DownloadData()\n",
      "INFO: [pid 67254] Worker Worker(salt=497674608, workers=1, host=10-200-207-248.vlan920.client.wireless.uic.edu, username=dwelch, pid=67254) done      DownloadData()\n",
      "DEBUG: 1 running tasks, waiting for next task to finish\n",
      "INFO: Informed scheduler that task   DownloadData__99914b932b   has status   DONE\n",
      "DEBUG: Asking scheduler for work...\n",
      "DEBUG: Pending tasks: 4\n",
      "INFO: [pid 67254] Worker Worker(salt=497674608, workers=1, host=10-200-207-248.vlan920.client.wireless.uic.edu, username=dwelch, pid=67254) running   cleanCSV()\n",
      "/Users/dwelch/virtualenvs/luigi/lib/python2.7/site-packages/ipykernel/__main__.py:49: DeprecationWarning: Use LocalTarget.path to reference filename\n",
      "INFO: [pid 67254] Worker Worker(salt=497674608, workers=1, host=10-200-207-248.vlan920.client.wireless.uic.edu, username=dwelch, pid=67254) done      cleanCSV()\n",
      "DEBUG: 1 running tasks, waiting for next task to finish\n",
      "INFO: Informed scheduler that task   cleanCSV__99914b932b   has status   DONE\n",
      "DEBUG: Asking scheduler for work...\n",
      "DEBUG: Pending tasks: 3\n",
      "INFO: [pid 67254] Worker Worker(salt=497674608, workers=1, host=10-200-207-248.vlan920.client.wireless.uic.edu, username=dwelch, pid=67254) running   MakePermitMap()\n",
      "/Users/dwelch/virtualenvs/luigi/lib/python2.7/site-packages/ipykernel/__main__.py:7: DeprecationWarning: Use LocalTarget.path to reference filename\n",
      "/Users/dwelch/virtualenvs/luigi/lib/python2.7/site-packages/luigi/worker.py:789: DtypeWarning: Columns (2) have mixed types. Specify dtype option on import or set low_memory=False.\n",
      "  p.run()\n",
      "INFO: [pid 67254] Worker Worker(salt=497674608, workers=1, host=10-200-207-248.vlan920.client.wireless.uic.edu, username=dwelch, pid=67254) done      MakePermitMap()\n",
      "DEBUG: 1 running tasks, waiting for next task to finish\n",
      "INFO: Informed scheduler that task   MakePermitMap__99914b932b   has status   DONE\n",
      "DEBUG: Asking scheduler for work...\n",
      "DEBUG: Pending tasks: 2\n",
      "INFO: [pid 67254] Worker Worker(salt=497674608, workers=1, host=10-200-207-248.vlan920.client.wireless.uic.edu, username=dwelch, pid=67254) running   MakeEstimatedCostMap()\n",
      "/Users/dwelch/virtualenvs/luigi/lib/python2.7/site-packages/ipykernel/__main__.py:8: DeprecationWarning: Use LocalTarget.path to reference filename\n",
      "INFO: [pid 67254] Worker Worker(salt=497674608, workers=1, host=10-200-207-248.vlan920.client.wireless.uic.edu, username=dwelch, pid=67254) done      MakeEstimatedCostMap()\n",
      "DEBUG: 1 running tasks, waiting for next task to finish\n",
      "INFO: Informed scheduler that task   MakeEstimatedCostMap__99914b932b   has status   DONE\n",
      "DEBUG: Asking scheduler for work...\n",
      "DEBUG: Pending tasks: 1\n",
      "INFO: [pid 67254] Worker Worker(salt=497674608, workers=1, host=10-200-207-248.vlan920.client.wireless.uic.edu, username=dwelch, pid=67254) running   MakeMaps()\n",
      "ERROR: [pid 67254] Worker Worker(salt=497674608, workers=1, host=10-200-207-248.vlan920.client.wireless.uic.edu, username=dwelch, pid=67254) failed    MakeMaps()\n",
      "Traceback (most recent call last):\n",
      "  File \"/Users/dwelch/virtualenvs/luigi/lib/python2.7/site-packages/luigi/worker.py\", line 165, in run\n",
      "    raise RuntimeError('Unfulfilled %s at run time: %s' % (deps, ', '.join(missing)))\n",
      "RuntimeError: Unfulfilled dependency at run time: MakeEstimatedCostMap__99914b932b\n",
      "DEBUG: 1 running tasks, waiting for next task to finish\n",
      "INFO: Skipping error email. Set `error-email` in the `core` section of the Luigi config file or override `owner_email` in the task to receive error emails.\n",
      "INFO: Informed scheduler that task   MakeMaps__99914b932b   has status   FAILED\n",
      "DEBUG: Checking if MakeMaps() is complete\n",
      "DEBUG: Checking if MakePermitMap() is complete\n",
      "DEBUG: Checking if MakeEstimatedCostMap() is complete\n",
      "INFO: Informed scheduler that task   MakeMaps__99914b932b   has status   PENDING\n",
      "DEBUG: Checking if cleanCSV() is complete\n",
      "DEBUG: Checking if DownloadWards() is complete\n",
      "INFO: Informed scheduler that task   MakeEstimatedCostMap__99914b932b   has status   PENDING\n",
      "INFO: Informed scheduler that task   DownloadWards__99914b932b   has status   DONE\n",
      "INFO: Informed scheduler that task   cleanCSV__99914b932b   has status   DONE\n",
      "INFO: Informed scheduler that task   MakePermitMap__99914b932b   has status   DONE\n",
      "DEBUG: Asking scheduler for work...\n",
      "DEBUG: Pending tasks: 2\n",
      "INFO: [pid 67254] Worker Worker(salt=497674608, workers=1, host=10-200-207-248.vlan920.client.wireless.uic.edu, username=dwelch, pid=67254) running   MakeEstimatedCostMap()\n",
      "INFO: [pid 67254] Worker Worker(salt=497674608, workers=1, host=10-200-207-248.vlan920.client.wireless.uic.edu, username=dwelch, pid=67254) done      MakeEstimatedCostMap()\n",
      "DEBUG: 1 running tasks, waiting for next task to finish\n",
      "INFO: Informed scheduler that task   MakeEstimatedCostMap__99914b932b   has status   DONE\n",
      "DEBUG: Asking scheduler for work...\n",
      "DEBUG: Pending tasks: 1\n",
      "INFO: [pid 67254] Worker Worker(salt=497674608, workers=1, host=10-200-207-248.vlan920.client.wireless.uic.edu, username=dwelch, pid=67254) running   MakeMaps()\n",
      "ERROR: [pid 67254] Worker Worker(salt=497674608, workers=1, host=10-200-207-248.vlan920.client.wireless.uic.edu, username=dwelch, pid=67254) failed    MakeMaps()\n",
      "Traceback (most recent call last):\n",
      "  File \"/Users/dwelch/virtualenvs/luigi/lib/python2.7/site-packages/luigi/worker.py\", line 165, in run\n",
      "    raise RuntimeError('Unfulfilled %s at run time: %s' % (deps, ', '.join(missing)))\n",
      "RuntimeError: Unfulfilled dependency at run time: MakeEstimatedCostMap__99914b932b\n",
      "DEBUG: 1 running tasks, waiting for next task to finish\n",
      "INFO: Skipping error email. Set `error-email` in the `core` section of the Luigi config file or override `owner_email` in the task to receive error emails.\n",
      "INFO: Informed scheduler that task   MakeMaps__99914b932b   has status   FAILED\n",
      "DEBUG: Asking scheduler for work...\n",
      "DEBUG: Done\n",
      "DEBUG: There are no more tasks to run at this time\n",
      "INFO: Worker Worker(salt=497674608, workers=1, host=10-200-207-248.vlan920.client.wireless.uic.edu, username=dwelch, pid=67254) was stopped. Shutting down Keep-Alive thread\n",
      "INFO: \n",
      "===== Luigi Execution Summary =====\n",
      "\n",
      "Scheduled 6 tasks of which:\n",
      "* 5 ran successfully:\n",
      "    - 1 DownloadData()\n",
      "    - 1 DownloadWards()\n",
      "    - 1 MakeEstimatedCostMap()\n",
      "    - 1 MakePermitMap()\n",
      "    - 1 cleanCSV()\n",
      "* 1 failed:\n",
      "    - 1 MakeMaps()\n",
      "\n",
      "This progress looks :( because there were failed tasks\n",
      "\n",
      "===== Luigi Execution Summary =====\n",
      "\n"
     ]
    },
    {
     "data": {
      "text/plain": [
       "False"
      ]
     },
     "execution_count": 10,
     "metadata": {},
     "output_type": "execute_result"
    },
    {
     "data": {
      "text/plain": [
       "<matplotlib.figure.Figure at 0x113a0ff50>"
      ]
     },
     "metadata": {},
     "output_type": "display_data"
    },
    {
     "data": {
      "text/plain": [
       "<matplotlib.figure.Figure at 0x1139c80d0>"
      ]
     },
     "metadata": {},
     "output_type": "display_data"
    },
    {
     "data": {
      "text/plain": [
       "<matplotlib.figure.Figure at 0x10fef58d0>"
      ]
     },
     "metadata": {},
     "output_type": "display_data"
    },
    {
     "data": {
      "image/png": "[encoded data removed]",
      "text/plain": [
       "<matplotlib.figure.Figure at 0x10ffc3d90>"
      ]
     },
     "metadata": {},
     "output_type": "display_data"
    }
   ],
   "source": [
    "# if __name__ == '__main__':\n",
    "luigi.run(['MakeMaps', '--local-scheduler'])"
   ]
  },
  {
   "cell_type": "markdown",
   "metadata": {},
   "source": [
    "# Miscellaneous notes\n",
    "\n",
    "The estimated cost spread is predictably non-linear, so further direction could be to filter out the \"$0\" as unestimated (which they likely are)!  \n",
    "\n",
    "## Suggested work\n",
    "\n",
    "* Map estimated costs overlaid with actual cost\n",
    "* Map permits by # of contractors involved and cost\n",
    "* Plot estimated cost accuracy based on contractor count\n",
    "* Map permits by contractors\n",
    "* Chloropleth maps by permit count, cost, etc.\n",
    "* Include population density (Census data) or distance from major routes\n",
    "* Etc..."
   ]
  },
  {
   "cell_type": "code",
   "execution_count": null,
   "metadata": {
    "collapsed": false
   },
   "outputs": [],
   "source": [
    "# For reference, cost spread is exponential\n",
    "# plt.hist(costs, 3000, log=True);"
   ]
  },
  {
   "cell_type": "code",
   "execution_count": null,
   "metadata": {
    "collapsed": false
   },
   "outputs": [],
   "source": [
    "# Additional headers available...\n",
    "\"\"\"\n",
    "# PIN1,\n",
    "# PIN2,\n",
    "# PIN3,\n",
    "# PIN4,\n",
    "# PIN5,\n",
    "# PIN6,\n",
    "# PIN7,\n",
    "# PIN8,\n",
    "# PIN9,\n",
    "# PIN10,\n",
    "'CONTRACTOR_1_TYPE,\n",
    "'CONTRACTOR_1_NAME,\n",
    "'CONTRACTOR_1_ADDRESS,\n",
    "'CONTRACTOR_1_CITY,\n",
    "'CONTRACTOR_1_STATE,\n",
    "'CONTRACTOR_1_ZIPCODE,\n",
    "'CONTRACTOR_1_PHONE,\n",
    "'CONTRACTOR_2_TYPE,\n",
    "'CONTRACTOR_2_NAME,\n",
    "'CONTRACTOR_2_ADDRESS,\n",
    "'CONTRACTOR_2_CITY,\n",
    "'CONTRACTOR_2_STATE,\n",
    "'CONTRACTOR_2_ZIPCODE,\n",
    "'CONTRACTOR_2_PHONE,\n",
    "'CONTRACTOR_3_TYPE,\n",
    "'CONTRACTOR_3_NAME,\n",
    "'CONTRACTOR_3_ADDRESS,\n",
    "'CONTRACTOR_3_CITY,\n",
    "'CONTRACTOR_3_STATE,\n",
    "'CONTRACTOR_3_ZIPCODE,\n",
    "'CONTRACTOR_3_PHONE,\n",
    "'CONTRACTOR_4_TYPE,\n",
    "'CONTRACTOR_4_NAME,\n",
    "'CONTRACTOR_4_ADDRESS,\n",
    "'CONTRACTOR_4_CITY,\n",
    "'CONTRACTOR_4_STATE,\n",
    "'CONTRACTOR_4_ZIPCODE,\n",
    "'CONTRACTOR_4_PHONE,\n",
    "'CONTRACTOR_5_TYPE,\n",
    "'CONTRACTOR_5_NAME,\n",
    "'CONTRACTOR_5_ADDRESS,\n",
    "'CONTRACTOR_5_CITY,\n",
    "'CONTRACTOR_5_STATE,\n",
    "'CONTRACTOR_5_ZIPCODE,\n",
    "'CONTRACTOR_5_PHONE,\n",
    "'CONTRACTOR_6_TYPE,\n",
    "'CONTRACTOR_6_NAME,\n",
    "'CONTRACTOR_6_ADDRESS,\n",
    "'CONTRACTOR_6_CITY,\n",
    "'CONTRACTOR_6_STATE,\n",
    "'CONTRACTOR_6_ZIPCODE,\n",
    "'CONTRACTOR_6_PHONE,\n",
    "'CONTRACTOR_7_TYPE,\n",
    "'CONTRACTOR_7_NAME,\n",
    "'CONTRACTOR_7_ADDRESS,\n",
    "'CONTRACTOR_7_CITY,\n",
    "'CONTRACTOR_7_STATE,\n",
    "'CONTRACTOR_7_ZIPCODE,\n",
    "'CONTRACTOR_7_PHONE,\n",
    "'CONTRACTOR_8_TYPE,\n",
    "'CONTRACTOR_8_NAME,\n",
    "'CONTRACTOR_8_ADDRESS,\n",
    "'CONTRACTOR_8_CITY,\n",
    "'CONTRACTOR_8_STATE,\n",
    "'CONTRACTOR_8_ZIPCODE,\n",
    "'CONTRACTOR_8_PHONE,\n",
    "'CONTRACTOR_9_TYPE,\n",
    "'CONTRACTOR_9_NAME,\n",
    "'CONTRACTOR_9_ADDRESS,\n",
    "'CONTRACTOR_9_CITY,\n",
    "'CONTRACTOR_9_STATE,\n",
    "'CONTRACTOR_9_ZIPCODE,\n",
    "'CONTRACTOR_9_PHONE,\n",
    "'CONTRACTOR_10_TYPE,\n",
    "'CONTRACTOR_10_NAME,\n",
    "'CONTRACTOR_10_ADDRESS,\n",
    "'CONTRACTOR_10_CITY,\n",
    "'CONTRACTOR_10_STATE,\n",
    "'CONTRACTOR_10_ZIPCODE,\n",
    "'CONTRACTOR_10_PHONE,\n",
    "'CONTRACTOR_11_TYPE,\n",
    "'CONTRACTOR_11_NAME,\n",
    "'CONTRACTOR_11_ADDRESS,\n",
    "'CONTRACTOR_11_CITY,\n",
    "'CONTRACTOR_11_STATE,\n",
    "'CONTRACTOR_11_ZIPCODE,\n",
    "'CONTRACTOR_11_PHONE,\n",
    "'CONTRACTOR_12_TYPE,\n",
    "'CONTRACTOR_12_NAME,\n",
    "'CONTRACTOR_12_ADDRESS,\n",
    "'CONTRACTOR_12_CITY,\n",
    "'CONTRACTOR_12_STATE,\n",
    "'CONTRACTOR_12_ZIPCODE,\n",
    "'CONTRACTOR_12_PHONE,\n",
    "'CONTRACTOR_13_TYPE,\n",
    "'CONTRACTOR_13_NAME,\n",
    "'CONTRACTOR_13_ADDRESS,\n",
    "'CONTRACTOR_13_CITY,\n",
    "'CONTRACTOR_13_STATE,\n",
    "'CONTRACTOR_13_ZIPCODE,\n",
    "'CONTRACTOR_13_PHONE,\n",
    "'CONTRACTOR_14_TYPE,\n",
    "'CONTRACTOR_14_NAME,\n",
    "'CONTRACTOR_14_ADDRESS,\n",
    "'CONTRACTOR_14_CITY,\n",
    "'CONTRACTOR_14_STATE,\n",
    "'CONTRACTOR_14_ZIPCODE,\n",
    "'CONTRACTOR_14_PHONE,\n",
    "'CONTRACTOR_15_TYPE,\n",
    "'CONTRACTOR_15_NAME,\n",
    "'CONTRACTOR_15_ADDRESS,\n",
    "'CONTRACTOR_15_CITY,\n",
    "'CONTRACTOR_15_STATE,\n",
    "'CONTRACTOR_15_ZIPCODE,\n",
    "'CONTRACTOR_15_PHONE,\n",
    "\"\"\""
   ]
  }
 ],
 "metadata": {
  "kernelspec": {
   "display_name": "Python 2",
   "language": "python",
   "name": "python2"
  },
  "language_info": {
   "codemirror_mode": {
    "name": "ipython",
    "version": 2
   },
   "file_extension": ".py",
   "mimetype": "text/x-python",
   "name": "python",
   "nbconvert_exporter": "python",
   "pygments_lexer": "ipython2",
   "version": "2.7.11"
  }
 },
 "nbformat": 4,
 "nbformat_minor": 1
}
